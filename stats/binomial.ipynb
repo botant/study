{
 "cells": [
  {
   "cell_type": "markdown",
   "metadata": {},
   "source": [
    "# Binomial random variables\n",
    "\n",
    "https://en.wikipedia.org/wiki/Binomial_distribution \\\n",
    "https://en.wikipedia.org/wiki/Binomial_theorem"
   ]
  },
  {
   "cell_type": "markdown",
   "metadata": {},
   "source": [
    "$X$ is number of successes in $n$ independent trials with probability $p$.\n",
    "\n",
    "$X$ can also be interpreted as the sum of $n$ independent Bernoulli($p$) variables.\n",
    "\n",
    "$X \\sim Bin(n, p)$"
   ]
  },
  {
   "cell_type": "markdown",
   "metadata": {},
   "source": [
    "## Probability Mass Function\n",
    "\n",
    "$f(k) = {n \\choose k} \\cdot p^k \\cdot (1-p)^{n-k}, k \\in \\{0, \\dots, n\\}$\n",
    "\n",
    "$\\sum_{k=0}^{n} {n \\choose k} \\cdot p^k \\cdot (1-p)^{n-k} \\overset{\\color{red}{\\text{binomial theorem}}}{=} 1\\square$"
   ]
  },
  {
   "cell_type": "markdown",
   "metadata": {},
   "source": [
    "##  Expected Value & Variance (easy way)\n",
    "\n",
    "$X = \\sum_{i=1}^n I_i, \\text{where } I_i \\sim Bernoulli(p)$\n",
    "\n",
    "$E[X] = E[I_1 + I_2 + \\dots + I_n] \\overset{\\color{red}{linearity}}{=} E[I_1] + E[I_2] + \\dots + E[I_n] = n \\cdot p \\square$\n",
    "\n",
    "$Var(X) = Var(I_1 + I_2 + \\dots + I_n) \\overset{\\color{red}{independence}}{=} Var(I_1) + Var(I_2) + \\dots + Var(I_n) = n \\cdot p \\cdot (1-p) \\square$"
   ]
  },
  {
   "cell_type": "markdown",
   "metadata": {},
   "source": [
    "## Expected Value & Variance (hard way)\n",
    "\n",
    "$E[X] = \\sum_{k=0}^n k \\cdot \\frac{n!}{k!(n-k)!} \\cdot p^k \\cdot (1-p)^{n-k}\n",
    "\\newline\n",
    "\\overset{\\color{red}{\\text{remove } k=0}}{=} \\sum_{k=1}^n k \\cdot \\frac{n!}{k!(n-k)!} \\cdot p^k \\cdot (1-p)^{n-k}\n",
    "\\newline\n",
    "\\overset{\\color{red}{\\text{simplify } k!}}{=} \\sum_{k=1}^n \\frac{n!}{(k-1)!(n-k)!} \\cdot p^k \\cdot (1-p)^{n-k}\n",
    "\\newline\n",
    "\\overset{\\color{red}{\\text{reindex } j=k-1}}{=} \\sum_{j=0}^{n-1} \\frac{n \\cdot (n-1)!}{j!(n-1-j)!} \\cdot p \\cdot p^j \\cdot (1-p)^{n-1-j} \n",
    "\\newline\n",
    "\\overset{\\color{red}{\\text{take } n \\text{ and } p \\text{ out}}}{=} n \\cdot p \\cdot \\sum_{j=0}^{n-1} \\frac{(n-1)!}{j!(n-1-j)!} \\cdot p^j \\cdot (1-p)^{n-1-j}\n",
    "\\newline\n",
    "\\overset{\\color{red}{\\text{binomial theorem}}}{=} n \\cdot p\\square$\n",
    "\n",
    "&nbsp; \n",
    "\n",
    "$E[X^2] = \\sum_{k=0}^n k^2 \\cdot \\frac{n!}{k!(n-k)!} \\cdot p^k \\cdot (1-p)^{n-k} \n",
    "\\newline\n",
    "\\overset{\\color{red}{\\text{remove } k=0}}{=} \\sum_{k=1}^n k^2 \\cdot \\frac{n!}{k!(n-k)!} \\cdot p^k \\cdot (1-p)^{n-k}\n",
    "\\newline\n",
    "\\overset{\\color{red}{\\text{simplify } k!}}{=} \\sum_{k=1}^n k \\cdot \\frac{n!}{(k-1)!(n-k)!} \\cdot p^k \\cdot (1-p)^{n-k}\n",
    "\\newline\n",
    "\\overset{\\color{red}{\\text{reindex } j=k-1}}{=} \\sum_{j=0}^{n-1} (j+1) \\cdot \\frac{n \\cdot (n-1)!}{j!(n-1-j)!} \\cdot p \\cdot p^j \\cdot (1-p)^{n-1-j} \n",
    "\\newline\n",
    "\\overset{\\color{red}{\\text{take } n \\text{ and } p \\text{ out}}}{=} n \\cdot p \\cdot \\sum_{j=0}^{n-1} (j+1) \\cdot \\frac{(n-1)!}{j!(n-1-j)!} \\cdot p^j \\cdot (1-p)^{n-1-j}\n",
    "\\newline\n",
    "\\overset{\\color{red}{\\text{expand } j+1}}{=} n \\cdot p \\cdot \\big( \n",
    " \\underbrace{\\sum_{j=0}^{n-1} j \\cdot \\frac{(n-1)!}{j!(n-1-j)!} \\cdot p^j \\cdot (1-p)^{n-1-j}}_{\\color{red}{= (n-1) \\cdot p}} + \n",
    " \\underbrace{\\sum_{j=0}^{n-1} \\frac{(n-1)!}{j!(n-1-j)!} \\cdot p^j \\cdot (1-p)^{n-1-j}}_{\\color{red}{= 1}} \\big)\n",
    "\\newline\n",
    "\\overset{\\color{red}{\\text{simplify}}}{=} n \\cdot p \\cdot ((n-1) \\cdot p + 1)\\square$\n",
    "\n",
    "&nbsp;\n",
    "\n",
    "$Var(X) = E[X^2] - (E[X])^2 = n \\cdot p \\cdot ((n-1) \\cdot p + 1) - (n \\cdot p)^2 \n",
    "\\newline\n",
    "= n \\cdot p \\cdot (n \\cdot p - p + 1) - (n \\cdot p)^2\n",
    "\\newline\n",
    "= (n \\cdot p)^2 - n \\cdot p^2 + n \\cdot p - (n \\cdot p)^2 \n",
    "\\newline\n",
    "= n \\cdot p - n \\cdot p^2\n",
    "\\newline\n",
    "= n \\cdot p \\cdot (1-p)\\square$"
   ]
  },
  {
   "cell_type": "markdown",
   "metadata": {},
   "source": [
    "## Moment Generating Function"
   ]
  },
  {
   "cell_type": "markdown",
   "metadata": {},
   "source": [
    "$M_X(t) = E[e^{tX}]\n",
    "= \\sum_{k=0}^n e^{t \\cdot k} \\cdot \\frac{n!}{k!(n-k)!} \\cdot p^k \\cdot (1-p)^{n-k}\n",
    "= \\sum_{k=0}^n \\frac{n!}{k!(n-k)!} \\cdot (e^{t} \\cdot p)^k \\cdot (1-p)^{n-k}\n",
    "\\newline\n",
    "\\overset{\\color{red}{\\text{binomial theorem}}}{=} (e^{t} \\cdot p + (1-p))^n\\square$\n",
    "\n",
    "&nbsp;\n",
    "\n",
    "$M_X'(t) = n \\cdot e^{t} \\cdot p \\cdot (e^{t} \\cdot p + (1-p))^{n-1} \\implies M_X'(0) = n \\cdot p$\n",
    "\n",
    "$M_X''(t) = \n",
    "n \\cdot e^{t} \\cdot p \\cdot (e^{t} \\cdot p + (1-p))^{n-1} + \n",
    "  n \\cdot (n-1) \\cdot e^{2t} \\cdot p^2 \\cdot (e^{t} \\cdot p + (1-p))^{n-2} \n",
    "\\implies M_X''(0) = n \\cdot p + n \\cdot (n-1) \\cdot p^2 = n \\cdot p \\cdot ((n-1) \\cdot p + 1)$\n",
    "\n",
    "&nbsp;\n",
    "\n",
    "$M_X(t)$ could also have been obtained quite easily by expressing $X$ as a sum of i.i.d $Bernoulli$ variables:\n",
    "\n",
    "$M_X(t) = E[e^{t \\cdot \\sum_{i=1}^n I_i}] = E[\\prod_{i=1}^n e^{tI_i}]\n",
    "\\overset{\\color{red}{\\text{independence}}}{=} \\prod_{i=1}^n E[e^{tI_i}]\n",
    "= (e^{t} \\cdot p + (1-p))^n\\square$"
   ]
  },
  {
   "cell_type": "markdown",
   "metadata": {},
   "source": [
    "## Approximation by Poisson\n",
    "\n",
    "A Binomial r.v. can be approximated by a Poisson r.v. if $n$ is large and $p$ is small."
   ]
  },
  {
   "cell_type": "code",
   "execution_count": 69,
   "metadata": {},
   "outputs": [
    {
     "data": {
      "image/png": "[encoded data removed]",
      "text/plain": [
       "<Figure size 1440x432 with 2 Axes>"
      ]
     },
     "metadata": {},
     "output_type": "display_data"
    }
   ],
   "source": [
    "import matplotlib.pyplot as plt\n",
    "import seaborn\n",
    "seaborn.set()\n",
    "\n",
    "import numpy as np\n",
    "import scipy.stats as stats\n",
    "\n",
    "n = 100\n",
    "p = 0.1\n",
    "\n",
    "k = np.arange(n + 1)\n",
    "\n",
    "p_bin = stats.binom(n, p).pmf(k)\n",
    "c_bin = stats.binom(n, p).cdf(k)\n",
    "p_poi = stats.poisson(n * p).pmf(k)\n",
    "c_poi = stats.poisson(n * p).cdf(k)\n",
    "\n",
    "fig, ax = plt.subplots(1, 2, figsize=[20, 6]);\n",
    "ax[0].scatter(k, p_bin);\n",
    "ax[0].scatter(k, p_poi);\n",
    "ax[0].legend(['binomial', 'poisson']);\n",
    "ax[0].set_title('PMF');\n",
    "\n",
    "ax[1].scatter(k, c_bin);\n",
    "ax[1].scatter(k, c_poi);\n",
    "ax[1].legend(['binomial', 'poisson']);\n",
    "ax[1].set_title('CDF');"
   ]
  },
  {
   "cell_type": "markdown",
   "metadata": {},
   "source": [
    "How big does $n$ have to be, and how small does $p$ have to be, for the Poisson approximation to be \"good\"?\n",
    "\n",
    "The rule of thumb is:\n",
    "* $n > 100$\n",
    "* $p < 0.01$\n",
    "* $n \\cdot p < 20$"
   ]
  },
  {
   "cell_type": "code",
   "execution_count": 75,
   "metadata": {},
   "outputs": [
    {
     "name": "stdout",
     "output_type": "stream",
     "text": [
      "Max absolute difference in PMF in %\n",
      "         0.001     0.005     0.010     0.030     0.050     0.100\n",
      "25    0.002410  0.051958  0.171934  0.678800  0.911522  1.273429\n",
      "50    0.004642  0.085572  0.229329  0.506478  0.611182  0.945723\n",
      "100   0.008604  0.114192  0.185020  0.343232  0.455046  0.675531\n",
      "250   0.017052  0.089692  0.118471  0.217792  0.288484  0.429849\n",
      "500   0.022764  0.059009  0.088368  0.157146  0.206516  0.304566\n",
      "1000  0.018405  0.044025  0.063018  0.111447  0.146298  0.215579\n",
      "\n",
      "Max absolute difference in CDF in %\n",
      "         0.001     0.005     0.010     0.030     0.050     0.100\n",
      "25    0.001220  0.027666  0.097942  0.539185  0.911522  1.609159\n",
      "50    0.002380  0.048823  0.152459  0.506478  0.786574  1.473201\n",
      "100   0.004527  0.076022  0.184710  0.452615  0.718726  1.416978\n",
      "250   0.009741  0.089692  0.154576  0.416029  0.684865  1.360254\n",
      "500   0.015171  0.077121  0.141033  0.402934  0.664159  1.333514\n",
      "1000  0.018402  0.070351  0.135745  0.389213  0.650553  1.314698\n",
      "\n",
      "Kolmogorov-Smirnoff p-value (reject H0 <same distribution> if p-value < 0.05)\n",
      "         0.001     0.005     0.010     0.030     0.050         0.100\n",
      "25    0.996583  0.996583  0.926019  0.926019  0.926019  7.327373e-01\n",
      "50    0.969624  0.876812  0.728011  0.561564  0.408354  2.827032e-01\n",
      "100   0.707902  0.475950  0.374270  0.158819  0.114436  5.587948e-02\n",
      "250   0.999977  0.688687  0.201577  0.004612  0.001740  2.910565e-04\n",
      "500   1.000000  0.999745  0.935600  0.130105  0.004744  2.741808e-08\n",
      "1000  1.000000  1.000000  0.999996  0.723398  0.200032  3.507795e-04\n"
     ]
    }
   ],
   "source": [
    "import pandas as pd\n",
    "\n",
    "n_list = [25, 50, 100, 250, 500, 1000]\n",
    "p_list = [0.001, 0.005, 0.01, 0.03, 0.05, 0.1]\n",
    "\n",
    "p_data = np.zeros((len(n_list), len(p_list)))\n",
    "c_data = np.zeros((len(n_list), len(p_list)))\n",
    "s_data = np.zeros((len(n_list), len(p_list)))\n",
    "\n",
    "for i in range(len(n_list)):\n",
    "    k = np.arange(n_list[i] + 1)\n",
    "    for j in range(len(p_list)):\n",
    "        p_bin = stats.binom(n_list[i], p_list[j]).pmf(k)\n",
    "        c_bin = stats.binom(n_list[i], p_list[j]).cdf(k)\n",
    "        p_poi = stats.poisson(n_list[i] * p_list[j]).pmf(k)\n",
    "        c_poi = stats.poisson(n_list[i] * p_list[j]).cdf(k)\n",
    "        p_data[i, j] = np.max(np.abs(p_bin - p_poi)) * 100\n",
    "        c_data[i, j] = np.max(np.abs(c_bin - c_poi)) * 100\n",
    "        \n",
    "        [_, pvalue] = stats.ks_2samp(p_bin, p_poi)\n",
    "        s_data[i, j] = pvalue\n",
    "        \n",
    "print('Max absolute difference in PMF in %')\n",
    "print(pd.DataFrame(p_data, index=n_list, columns=p_list))\n",
    "\n",
    "print('\\nMax absolute difference in CDF in %')\n",
    "print(pd.DataFrame(c_data, index=n_list, columns=p_list))\n",
    "\n",
    "print('\\nKolmogorov-Smirnoff p-value (reject H0 <same distribution> if p-value < 0.05)')\n",
    "print(pd.DataFrame(s_data, index=n_list, columns=p_list))"
   ]
  },
  {
   "cell_type": "markdown",
   "metadata": {},
   "source": [
    "## Approximation by Normal"
   ]
  },
  {
   "cell_type": "code",
   "execution_count": null,
   "metadata": {},
   "outputs": [],
   "source": []
  }
 ],
 "metadata": {
  "kernelspec": {
   "display_name": "Python 3",
   "language": "python",
   "name": "python3"
  },
  "language_info": {
   "codemirror_mode": {
    "name": "ipython",
    "version": 3
   },
   "file_extension": ".py",
   "mimetype": "text/x-python",
   "name": "python",
   "nbconvert_exporter": "python",
   "pygments_lexer": "ipython3",
   "version": "3.8.5"
  }
 },
 "nbformat": 4,
 "nbformat_minor": 4
}
