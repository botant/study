{
 "cells": [
  {
   "cell_type": "markdown",
   "metadata": {},
   "source": [
    "# Bernoulli random variables\n",
    "\n",
    "https://en.wikipedia.org/wiki/Bernoulli_distribution"
   ]
  },
  {
   "cell_type": "markdown",
   "metadata": {},
   "source": [
    "$X$ represents a binary event that is successful with probability $p$.\n",
    "\n",
    "$X \\sim Bernoulli(p)$"
   ]
  },
  {
   "cell_type": "markdown",
   "metadata": {},
   "source": [
    "## Probability Mass Function\n",
    "\n",
    "$f(x) = x \\cdot p + (1-x) \\cdot (1-p), x \\in \\{0, 1\\}$\n",
    "\n",
    "$\\sum_{x=0}^{1} f(x) = (1-p) + p = 1$"
   ]
  },
  {
   "cell_type": "markdown",
   "metadata": {},
   "source": [
    "## Expected Value & Variance\n",
    "\n",
    "$E[X] = 1 \\cdot p + 0 \\cdot (1-p) = p\\square$\n",
    "\n",
    "$E[X^2] = 1 \\cdot p + 0 \\cdot (1-p) = p\\square$\n",
    "\n",
    "$Var(X) = E[X^2] - (E[X])^2 = p - p^2 = p \\cdot (1-p)\\square$"
   ]
  },
  {
   "cell_type": "markdown",
   "metadata": {},
   "source": [
    "## Moment Generating Function\n",
    "\n",
    "$M_X(t) = E[e^{tX}] = e^{t \\cdot 1} \\cdot p + e^{t \\cdot 0} \\cdot (1-p) = e^t \\cdot p + (1-p)\\square$\n",
    "\n",
    "$M_X'(t) = e^t \\cdot p \\implies M_X'(0) = p$\n",
    "\n",
    "$M_X''(t) = e^t \\cdot p \\implies M_X''(0) = p$"
   ]
  },
  {
   "cell_type": "code",
   "execution_count": null,
   "metadata": {},
   "outputs": [],
   "source": []
  }
 ],
 "metadata": {
  "kernelspec": {
   "display_name": "Python 3",
   "language": "python",
   "name": "python3"
  },
  "language_info": {
   "codemirror_mode": {
    "name": "ipython",
    "version": 3
   },
   "file_extension": ".py",
   "mimetype": "text/x-python",
   "name": "python",
   "nbconvert_exporter": "python",
   "pygments_lexer": "ipython3",
   "version": "3.8.5"
  }
 },
 "nbformat": 4,
 "nbformat_minor": 4
}
